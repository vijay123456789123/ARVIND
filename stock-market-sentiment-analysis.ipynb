{
 "cells": [
  {
   "cell_type": "code",
   "execution_count": 1,
   "id": "ad4987fd",
   "metadata": {
    "_cell_guid": "b1076dfc-b9ad-4769-8c92-a6c4dae69d19",
    "_uuid": "8f2839f25d086af736a60e9eeb907d3b93b6e0e5",
    "execution": {
     "iopub.execute_input": "2024-03-25T02:26:38.087207Z",
     "iopub.status.busy": "2024-03-25T02:26:38.086358Z",
     "iopub.status.idle": "2024-03-25T02:26:39.094692Z",
     "shell.execute_reply": "2024-03-25T02:26:39.093730Z"
    },
    "papermill": {
     "duration": 1.022591,
     "end_time": "2024-03-25T02:26:39.097204",
     "exception": false,
     "start_time": "2024-03-25T02:26:38.074613",
     "status": "completed"
    },
    "tags": []
   },
   "outputs": [],
   "source": [
    "import pandas as pd"
   ]
  },
  {
   "cell_type": "code",
   "execution_count": 2,
   "id": "5aacf7cd",
   "metadata": {
    "execution": {
     "iopub.execute_input": "2024-03-25T02:26:39.121277Z",
     "iopub.status.busy": "2024-03-25T02:26:39.120586Z",
     "iopub.status.idle": "2024-03-25T02:26:39.166406Z",
     "shell.execute_reply": "2024-03-25T02:26:39.165128Z"
    },
    "papermill": {
     "duration": 0.060107,
     "end_time": "2024-03-25T02:26:39.169412",
     "exception": false,
     "start_time": "2024-03-25T02:26:39.109305",
     "status": "completed"
    },
    "tags": []
   },
   "outputs": [],
   "source": [
    "df = pd.read_csv('/kaggle/input/stockmarket-sentiment-dataset/stock_data.csv', encoding='utf-8')"
   ]
  },
  {
   "cell_type": "code",
   "execution_count": 3,
   "id": "3e0db63b",
   "metadata": {
    "execution": {
     "iopub.execute_input": "2024-03-25T02:26:39.190006Z",
     "iopub.status.busy": "2024-03-25T02:26:39.189601Z",
     "iopub.status.idle": "2024-03-25T02:26:39.214303Z",
     "shell.execute_reply": "2024-03-25T02:26:39.213097Z"
    },
    "papermill": {
     "duration": 0.037985,
     "end_time": "2024-03-25T02:26:39.216646",
     "exception": false,
     "start_time": "2024-03-25T02:26:39.178661",
     "status": "completed"
    },
    "tags": []
   },
   "outputs": [
    {
     "data": {
      "text/html": [
       "<div>\n",
       "<style scoped>\n",
       "    .dataframe tbody tr th:only-of-type {\n",
       "        vertical-align: middle;\n",
       "    }\n",
       "\n",
       "    .dataframe tbody tr th {\n",
       "        vertical-align: top;\n",
       "    }\n",
       "\n",
       "    .dataframe thead th {\n",
       "        text-align: right;\n",
       "    }\n",
       "</style>\n",
       "<table border=\"1\" class=\"dataframe\">\n",
       "  <thead>\n",
       "    <tr style=\"text-align: right;\">\n",
       "      <th></th>\n",
       "      <th>Text</th>\n",
       "      <th>Sentiment</th>\n",
       "    </tr>\n",
       "  </thead>\n",
       "  <tbody>\n",
       "    <tr>\n",
       "      <th>0</th>\n",
       "      <td>Kickers on my watchlist XIDE TIT SOQ PNK CPW B...</td>\n",
       "      <td>1</td>\n",
       "    </tr>\n",
       "    <tr>\n",
       "      <th>1</th>\n",
       "      <td>user: AAP MOVIE. 55% return for the FEA/GEED i...</td>\n",
       "      <td>1</td>\n",
       "    </tr>\n",
       "    <tr>\n",
       "      <th>2</th>\n",
       "      <td>user I'd be afraid to short AMZN - they are lo...</td>\n",
       "      <td>1</td>\n",
       "    </tr>\n",
       "    <tr>\n",
       "      <th>3</th>\n",
       "      <td>MNTA Over 12.00</td>\n",
       "      <td>1</td>\n",
       "    </tr>\n",
       "    <tr>\n",
       "      <th>4</th>\n",
       "      <td>OI  Over 21.37</td>\n",
       "      <td>1</td>\n",
       "    </tr>\n",
       "    <tr>\n",
       "      <th>...</th>\n",
       "      <td>...</td>\n",
       "      <td>...</td>\n",
       "    </tr>\n",
       "    <tr>\n",
       "      <th>5786</th>\n",
       "      <td>Industry body CII said #discoms are likely to ...</td>\n",
       "      <td>-1</td>\n",
       "    </tr>\n",
       "    <tr>\n",
       "      <th>5787</th>\n",
       "      <td>#Gold prices slip below Rs 46,000 as #investor...</td>\n",
       "      <td>-1</td>\n",
       "    </tr>\n",
       "    <tr>\n",
       "      <th>5788</th>\n",
       "      <td>Workers at Bajaj Auto have agreed to a 10% wag...</td>\n",
       "      <td>1</td>\n",
       "    </tr>\n",
       "    <tr>\n",
       "      <th>5789</th>\n",
       "      <td>#Sharemarket LIVE: Sensex off day’s high, up 6...</td>\n",
       "      <td>1</td>\n",
       "    </tr>\n",
       "    <tr>\n",
       "      <th>5790</th>\n",
       "      <td>#Sensex, #Nifty climb off day's highs, still u...</td>\n",
       "      <td>1</td>\n",
       "    </tr>\n",
       "  </tbody>\n",
       "</table>\n",
       "<p>5791 rows × 2 columns</p>\n",
       "</div>"
      ],
      "text/plain": [
       "                                                   Text  Sentiment\n",
       "0     Kickers on my watchlist XIDE TIT SOQ PNK CPW B...          1\n",
       "1     user: AAP MOVIE. 55% return for the FEA/GEED i...          1\n",
       "2     user I'd be afraid to short AMZN - they are lo...          1\n",
       "3                                     MNTA Over 12.00            1\n",
       "4                                      OI  Over 21.37            1\n",
       "...                                                 ...        ...\n",
       "5786  Industry body CII said #discoms are likely to ...         -1\n",
       "5787  #Gold prices slip below Rs 46,000 as #investor...         -1\n",
       "5788  Workers at Bajaj Auto have agreed to a 10% wag...          1\n",
       "5789  #Sharemarket LIVE: Sensex off day’s high, up 6...          1\n",
       "5790  #Sensex, #Nifty climb off day's highs, still u...          1\n",
       "\n",
       "[5791 rows x 2 columns]"
      ]
     },
     "execution_count": 3,
     "metadata": {},
     "output_type": "execute_result"
    }
   ],
   "source": [
    "df"
   ]
  },
  {
   "cell_type": "code",
   "execution_count": 4,
   "id": "e02743ed",
   "metadata": {
    "execution": {
     "iopub.execute_input": "2024-03-25T02:26:39.237696Z",
     "iopub.status.busy": "2024-03-25T02:26:39.237260Z",
     "iopub.status.idle": "2024-03-25T02:26:39.244557Z",
     "shell.execute_reply": "2024-03-25T02:26:39.243464Z"
    },
    "papermill": {
     "duration": 0.020642,
     "end_time": "2024-03-25T02:26:39.246977",
     "exception": false,
     "start_time": "2024-03-25T02:26:39.226335",
     "status": "completed"
    },
    "tags": []
   },
   "outputs": [
    {
     "data": {
      "text/plain": [
       "Index(['Text', 'Sentiment'], dtype='object')"
      ]
     },
     "execution_count": 4,
     "metadata": {},
     "output_type": "execute_result"
    }
   ],
   "source": [
    "df.columns"
   ]
  },
  {
   "cell_type": "code",
   "execution_count": 5,
   "id": "9abccd77",
   "metadata": {
    "execution": {
     "iopub.execute_input": "2024-03-25T02:26:39.269428Z",
     "iopub.status.busy": "2024-03-25T02:26:39.268956Z",
     "iopub.status.idle": "2024-03-25T02:26:39.274269Z",
     "shell.execute_reply": "2024-03-25T02:26:39.273145Z"
    },
    "papermill": {
     "duration": 0.018718,
     "end_time": "2024-03-25T02:26:39.276422",
     "exception": false,
     "start_time": "2024-03-25T02:26:39.257704",
     "status": "completed"
    },
    "tags": []
   },
   "outputs": [],
   "source": [
    "df.columns=['review','sentiment']"
   ]
  },
  {
   "cell_type": "code",
   "execution_count": 6,
   "id": "2810047e",
   "metadata": {
    "execution": {
     "iopub.execute_input": "2024-03-25T02:26:39.298598Z",
     "iopub.status.busy": "2024-03-25T02:26:39.297765Z",
     "iopub.status.idle": "2024-03-25T02:26:39.305604Z",
     "shell.execute_reply": "2024-03-25T02:26:39.304388Z"
    },
    "papermill": {
     "duration": 0.021231,
     "end_time": "2024-03-25T02:26:39.307871",
     "exception": false,
     "start_time": "2024-03-25T02:26:39.286640",
     "status": "completed"
    },
    "tags": []
   },
   "outputs": [
    {
     "data": {
      "text/plain": [
       "Index(['review', 'sentiment'], dtype='object')"
      ]
     },
     "execution_count": 6,
     "metadata": {},
     "output_type": "execute_result"
    }
   ],
   "source": [
    "df.columns"
   ]
  },
  {
   "cell_type": "code",
   "execution_count": 7,
   "id": "da2e6e92",
   "metadata": {
    "execution": {
     "iopub.execute_input": "2024-03-25T02:26:39.329393Z",
     "iopub.status.busy": "2024-03-25T02:26:39.328974Z",
     "iopub.status.idle": "2024-03-25T02:26:39.339620Z",
     "shell.execute_reply": "2024-03-25T02:26:39.338368Z"
    },
    "papermill": {
     "duration": 0.02459,
     "end_time": "2024-03-25T02:26:39.342068",
     "exception": false,
     "start_time": "2024-03-25T02:26:39.317478",
     "status": "completed"
    },
    "tags": []
   },
   "outputs": [],
   "source": [
    "# Define the custom labels\n",
    "positive = 'Positive'\n",
    "negative = 'Negative'\n",
    "\n",
    "# Replace values in the 'sentiment' column with custom labels\n",
    "df['sentiment'] = df['sentiment'].replace({1: positive, -1: negative})"
   ]
  },
  {
   "cell_type": "code",
   "execution_count": 8,
   "id": "93600538",
   "metadata": {
    "execution": {
     "iopub.execute_input": "2024-03-25T02:26:39.364101Z",
     "iopub.status.busy": "2024-03-25T02:26:39.362860Z",
     "iopub.status.idle": "2024-03-25T02:26:39.369550Z",
     "shell.execute_reply": "2024-03-25T02:26:39.368717Z"
    },
    "papermill": {
     "duration": 0.020151,
     "end_time": "2024-03-25T02:26:39.371935",
     "exception": false,
     "start_time": "2024-03-25T02:26:39.351784",
     "status": "completed"
    },
    "tags": []
   },
   "outputs": [
    {
     "data": {
      "text/plain": [
       "(5791, 2)"
      ]
     },
     "execution_count": 8,
     "metadata": {},
     "output_type": "execute_result"
    }
   ],
   "source": [
    "df.shape"
   ]
  },
  {
   "cell_type": "code",
   "execution_count": 9,
   "id": "76b6b0a3",
   "metadata": {
    "execution": {
     "iopub.execute_input": "2024-03-25T02:26:39.394864Z",
     "iopub.status.busy": "2024-03-25T02:26:39.394466Z",
     "iopub.status.idle": "2024-03-25T02:26:39.406722Z",
     "shell.execute_reply": "2024-03-25T02:26:39.405491Z"
    },
    "papermill": {
     "duration": 0.026759,
     "end_time": "2024-03-25T02:26:39.409108",
     "exception": false,
     "start_time": "2024-03-25T02:26:39.382349",
     "status": "completed"
    },
    "tags": []
   },
   "outputs": [
    {
     "data": {
      "text/html": [
       "<div>\n",
       "<style scoped>\n",
       "    .dataframe tbody tr th:only-of-type {\n",
       "        vertical-align: middle;\n",
       "    }\n",
       "\n",
       "    .dataframe tbody tr th {\n",
       "        vertical-align: top;\n",
       "    }\n",
       "\n",
       "    .dataframe thead th {\n",
       "        text-align: right;\n",
       "    }\n",
       "</style>\n",
       "<table border=\"1\" class=\"dataframe\">\n",
       "  <thead>\n",
       "    <tr style=\"text-align: right;\">\n",
       "      <th></th>\n",
       "      <th>review</th>\n",
       "      <th>sentiment</th>\n",
       "    </tr>\n",
       "  </thead>\n",
       "  <tbody>\n",
       "    <tr>\n",
       "      <th>0</th>\n",
       "      <td>Kickers on my watchlist XIDE TIT SOQ PNK CPW B...</td>\n",
       "      <td>Positive</td>\n",
       "    </tr>\n",
       "    <tr>\n",
       "      <th>1</th>\n",
       "      <td>user: AAP MOVIE. 55% return for the FEA/GEED i...</td>\n",
       "      <td>Positive</td>\n",
       "    </tr>\n",
       "    <tr>\n",
       "      <th>2</th>\n",
       "      <td>user I'd be afraid to short AMZN - they are lo...</td>\n",
       "      <td>Positive</td>\n",
       "    </tr>\n",
       "    <tr>\n",
       "      <th>3</th>\n",
       "      <td>MNTA Over 12.00</td>\n",
       "      <td>Positive</td>\n",
       "    </tr>\n",
       "    <tr>\n",
       "      <th>4</th>\n",
       "      <td>OI  Over 21.37</td>\n",
       "      <td>Positive</td>\n",
       "    </tr>\n",
       "    <tr>\n",
       "      <th>...</th>\n",
       "      <td>...</td>\n",
       "      <td>...</td>\n",
       "    </tr>\n",
       "    <tr>\n",
       "      <th>5786</th>\n",
       "      <td>Industry body CII said #discoms are likely to ...</td>\n",
       "      <td>Negative</td>\n",
       "    </tr>\n",
       "    <tr>\n",
       "      <th>5787</th>\n",
       "      <td>#Gold prices slip below Rs 46,000 as #investor...</td>\n",
       "      <td>Negative</td>\n",
       "    </tr>\n",
       "    <tr>\n",
       "      <th>5788</th>\n",
       "      <td>Workers at Bajaj Auto have agreed to a 10% wag...</td>\n",
       "      <td>Positive</td>\n",
       "    </tr>\n",
       "    <tr>\n",
       "      <th>5789</th>\n",
       "      <td>#Sharemarket LIVE: Sensex off day’s high, up 6...</td>\n",
       "      <td>Positive</td>\n",
       "    </tr>\n",
       "    <tr>\n",
       "      <th>5790</th>\n",
       "      <td>#Sensex, #Nifty climb off day's highs, still u...</td>\n",
       "      <td>Positive</td>\n",
       "    </tr>\n",
       "  </tbody>\n",
       "</table>\n",
       "<p>5791 rows × 2 columns</p>\n",
       "</div>"
      ],
      "text/plain": [
       "                                                 review sentiment\n",
       "0     Kickers on my watchlist XIDE TIT SOQ PNK CPW B...  Positive\n",
       "1     user: AAP MOVIE. 55% return for the FEA/GEED i...  Positive\n",
       "2     user I'd be afraid to short AMZN - they are lo...  Positive\n",
       "3                                     MNTA Over 12.00    Positive\n",
       "4                                      OI  Over 21.37    Positive\n",
       "...                                                 ...       ...\n",
       "5786  Industry body CII said #discoms are likely to ...  Negative\n",
       "5787  #Gold prices slip below Rs 46,000 as #investor...  Negative\n",
       "5788  Workers at Bajaj Auto have agreed to a 10% wag...  Positive\n",
       "5789  #Sharemarket LIVE: Sensex off day’s high, up 6...  Positive\n",
       "5790  #Sensex, #Nifty climb off day's highs, still u...  Positive\n",
       "\n",
       "[5791 rows x 2 columns]"
      ]
     },
     "execution_count": 9,
     "metadata": {},
     "output_type": "execute_result"
    }
   ],
   "source": [
    "df"
   ]
  },
  {
   "cell_type": "code",
   "execution_count": 10,
   "id": "4746c943",
   "metadata": {
    "execution": {
     "iopub.execute_input": "2024-03-25T02:26:39.432088Z",
     "iopub.status.busy": "2024-03-25T02:26:39.431665Z",
     "iopub.status.idle": "2024-03-25T02:26:39.442489Z",
     "shell.execute_reply": "2024-03-25T02:26:39.441191Z"
    },
    "papermill": {
     "duration": 0.025717,
     "end_time": "2024-03-25T02:26:39.444807",
     "exception": false,
     "start_time": "2024-03-25T02:26:39.419090",
     "status": "completed"
    },
    "tags": []
   },
   "outputs": [
    {
     "data": {
      "text/plain": [
       "review       False\n",
       "sentiment    False\n",
       "dtype: bool"
      ]
     },
     "execution_count": 10,
     "metadata": {},
     "output_type": "execute_result"
    }
   ],
   "source": [
    "df.isnull().any()"
   ]
  },
  {
   "cell_type": "code",
   "execution_count": 11,
   "id": "de028ccb",
   "metadata": {
    "execution": {
     "iopub.execute_input": "2024-03-25T02:26:39.467082Z",
     "iopub.status.busy": "2024-03-25T02:26:39.466663Z",
     "iopub.status.idle": "2024-03-25T02:26:39.476468Z",
     "shell.execute_reply": "2024-03-25T02:26:39.475353Z"
    },
    "papermill": {
     "duration": 0.023814,
     "end_time": "2024-03-25T02:26:39.478766",
     "exception": false,
     "start_time": "2024-03-25T02:26:39.454952",
     "status": "completed"
    },
    "tags": []
   },
   "outputs": [
    {
     "data": {
      "text/plain": [
       "review       0\n",
       "sentiment    0\n",
       "dtype: int64"
      ]
     },
     "execution_count": 11,
     "metadata": {},
     "output_type": "execute_result"
    }
   ],
   "source": [
    "df.isnull().sum()"
   ]
  },
  {
   "cell_type": "code",
   "execution_count": 12,
   "id": "85999275",
   "metadata": {
    "execution": {
     "iopub.execute_input": "2024-03-25T02:26:39.503090Z",
     "iopub.status.busy": "2024-03-25T02:26:39.501803Z",
     "iopub.status.idle": "2024-03-25T02:26:39.528644Z",
     "shell.execute_reply": "2024-03-25T02:26:39.527356Z"
    },
    "papermill": {
     "duration": 0.041742,
     "end_time": "2024-03-25T02:26:39.531205",
     "exception": false,
     "start_time": "2024-03-25T02:26:39.489463",
     "status": "completed"
    },
    "tags": []
   },
   "outputs": [
    {
     "data": {
      "text/html": [
       "<div>\n",
       "<style scoped>\n",
       "    .dataframe tbody tr th:only-of-type {\n",
       "        vertical-align: middle;\n",
       "    }\n",
       "\n",
       "    .dataframe tbody tr th {\n",
       "        vertical-align: top;\n",
       "    }\n",
       "\n",
       "    .dataframe thead th {\n",
       "        text-align: right;\n",
       "    }\n",
       "</style>\n",
       "<table border=\"1\" class=\"dataframe\">\n",
       "  <thead>\n",
       "    <tr style=\"text-align: right;\">\n",
       "      <th></th>\n",
       "      <th>review</th>\n",
       "      <th>sentiment</th>\n",
       "    </tr>\n",
       "  </thead>\n",
       "  <tbody>\n",
       "    <tr>\n",
       "      <th>count</th>\n",
       "      <td>5791</td>\n",
       "      <td>5791</td>\n",
       "    </tr>\n",
       "    <tr>\n",
       "      <th>unique</th>\n",
       "      <td>5791</td>\n",
       "      <td>2</td>\n",
       "    </tr>\n",
       "    <tr>\n",
       "      <th>top</th>\n",
       "      <td>Kickers on my watchlist XIDE TIT SOQ PNK CPW B...</td>\n",
       "      <td>Positive</td>\n",
       "    </tr>\n",
       "    <tr>\n",
       "      <th>freq</th>\n",
       "      <td>1</td>\n",
       "      <td>3685</td>\n",
       "    </tr>\n",
       "  </tbody>\n",
       "</table>\n",
       "</div>"
      ],
      "text/plain": [
       "                                                   review sentiment\n",
       "count                                                5791      5791\n",
       "unique                                               5791         2\n",
       "top     Kickers on my watchlist XIDE TIT SOQ PNK CPW B...  Positive\n",
       "freq                                                    1      3685"
      ]
     },
     "execution_count": 12,
     "metadata": {},
     "output_type": "execute_result"
    }
   ],
   "source": [
    "df.describe()"
   ]
  },
  {
   "cell_type": "code",
   "execution_count": 13,
   "id": "0a0fab50",
   "metadata": {
    "execution": {
     "iopub.execute_input": "2024-03-25T02:26:39.553756Z",
     "iopub.status.busy": "2024-03-25T02:26:39.553320Z",
     "iopub.status.idle": "2024-03-25T02:26:39.563516Z",
     "shell.execute_reply": "2024-03-25T02:26:39.562268Z"
    },
    "papermill": {
     "duration": 0.02438,
     "end_time": "2024-03-25T02:26:39.565851",
     "exception": false,
     "start_time": "2024-03-25T02:26:39.541471",
     "status": "completed"
    },
    "tags": []
   },
   "outputs": [
    {
     "data": {
      "text/plain": [
       "sentiment\n",
       "Positive    3685\n",
       "Negative    2106\n",
       "Name: count, dtype: int64"
      ]
     },
     "execution_count": 13,
     "metadata": {},
     "output_type": "execute_result"
    }
   ],
   "source": [
    "df['sentiment'].value_counts()"
   ]
  },
  {
   "cell_type": "code",
   "execution_count": 14,
   "id": "7e072146",
   "metadata": {
    "execution": {
     "iopub.execute_input": "2024-03-25T02:26:39.590509Z",
     "iopub.status.busy": "2024-03-25T02:26:39.590090Z",
     "iopub.status.idle": "2024-03-25T02:26:39.597781Z",
     "shell.execute_reply": "2024-03-25T02:26:39.596772Z"
    },
    "papermill": {
     "duration": 0.023664,
     "end_time": "2024-03-25T02:26:39.600738",
     "exception": false,
     "start_time": "2024-03-25T02:26:39.577074",
     "status": "completed"
    },
    "tags": []
   },
   "outputs": [
    {
     "data": {
      "text/plain": [
       "(5791, 2)"
      ]
     },
     "execution_count": 14,
     "metadata": {},
     "output_type": "execute_result"
    }
   ],
   "source": [
    "df.shape"
   ]
  },
  {
   "cell_type": "markdown",
   "id": "cfd2343c",
   "metadata": {
    "papermill": {
     "duration": 0.01077,
     "end_time": "2024-03-25T02:26:39.623621",
     "exception": false,
     "start_time": "2024-03-25T02:26:39.612851",
     "status": "completed"
    },
    "tags": []
   },
   "source": [
    "# **Text Normalization**"
   ]
  },
  {
   "cell_type": "markdown",
   "id": "57e1aaf0",
   "metadata": {
    "papermill": {
     "duration": 0.010519,
     "end_time": "2024-03-25T02:26:39.645194",
     "exception": false,
     "start_time": "2024-03-25T02:26:39.634675",
     "status": "completed"
    },
    "tags": []
   },
   "source": [
    "**Tokenization**"
   ]
  },
  {
   "cell_type": "code",
   "execution_count": 15,
   "id": "0f9378b2",
   "metadata": {
    "execution": {
     "iopub.execute_input": "2024-03-25T02:26:39.669990Z",
     "iopub.status.busy": "2024-03-25T02:26:39.669412Z",
     "iopub.status.idle": "2024-03-25T02:26:42.427143Z",
     "shell.execute_reply": "2024-03-25T02:26:42.426116Z"
    },
    "papermill": {
     "duration": 2.772932,
     "end_time": "2024-03-25T02:26:42.429653",
     "exception": false,
     "start_time": "2024-03-25T02:26:39.656721",
     "status": "completed"
    },
    "tags": []
   },
   "outputs": [],
   "source": [
    "# Import data science libraries\n",
    "import matplotlib.pyplot as plt\n",
    "import seaborn as sns\n",
    "import nltk\n",
    "from sklearn.feature_extraction.text import CountVectorizer, TfidfVectorizer\n",
    "from sklearn.preprocessing import LabelBinarizer\n",
    "from nltk.corpus import stopwords\n",
    "from nltk.stem import PorterStemmer\n",
    "from wordcloud import WordCloud,STOPWORDS\n",
    "from nltk.stem import WordNetLemmatizer\n",
    "from nltk.tokenize import word_tokenize, sent_tokenize"
   ]
  },
  {
   "cell_type": "code",
   "execution_count": 16,
   "id": "ced7a2eb",
   "metadata": {
    "execution": {
     "iopub.execute_input": "2024-03-25T02:26:42.455170Z",
     "iopub.status.busy": "2024-03-25T02:26:42.453709Z",
     "iopub.status.idle": "2024-03-25T02:26:59.425805Z",
     "shell.execute_reply": "2024-03-25T02:26:59.424393Z"
    },
    "papermill": {
     "duration": 16.98848,
     "end_time": "2024-03-25T02:26:59.429140",
     "exception": false,
     "start_time": "2024-03-25T02:26:42.440660",
     "status": "completed"
    },
    "tags": []
   },
   "outputs": [
    {
     "name": "stdout",
     "output_type": "stream",
     "text": [
      "Collecting toktok\r\n",
      "  Downloading toktok-0.0.2.tar.gz (3.5 kB)\r\n",
      "  Preparing metadata (setup.py) ... \u001b[?25l-\b \bdone\r\n",
      "\u001b[?25hRequirement already satisfied: six in /opt/conda/lib/python3.10/site-packages (from toktok) (1.16.0)\r\n",
      "Building wheels for collected packages: toktok\r\n",
      "  Building wheel for toktok (setup.py) ... \u001b[?25l-\b \b\\\b \bdone\r\n",
      "\u001b[?25h  Created wheel for toktok: filename=toktok-0.0.2-py3-none-any.whl size=4239 sha256=9e27363448cef22f3e8a5a9c1ecd9bcc8db255684681d0ea849451f56e9f6b31\r\n",
      "  Stored in directory: /root/.cache/pip/wheels/ba/af/b7/4d2a15cdf2dc37ac44fb90376822fd55b6e41c536ec5d9e4b6\r\n",
      "Successfully built toktok\r\n",
      "Installing collected packages: toktok\r\n",
      "Successfully installed toktok-0.0.2\r\n"
     ]
    }
   ],
   "source": [
    "!pip install toktok"
   ]
  },
  {
   "cell_type": "code",
   "execution_count": 17,
   "id": "fd7e571b",
   "metadata": {
    "execution": {
     "iopub.execute_input": "2024-03-25T02:26:59.454284Z",
     "iopub.status.busy": "2024-03-25T02:26:59.453823Z",
     "iopub.status.idle": "2024-03-25T02:27:05.113221Z",
     "shell.execute_reply": "2024-03-25T02:27:05.111817Z"
    },
    "papermill": {
     "duration": 5.675286,
     "end_time": "2024-03-25T02:27:05.115910",
     "exception": false,
     "start_time": "2024-03-25T02:26:59.440624",
     "status": "completed"
    },
    "tags": []
   },
   "outputs": [],
   "source": [
    "import spacy\n",
    "import re\n",
    "import string\n",
    "import unicodedata\n",
    "import nltk\n",
    "from nltk.tokenize import word_tokenize, sent_tokenize\n",
    "from nltk.stem import LancasterStemmer, WordNetLemmatizer\n",
    "from sklearn.linear_model import LogisticRegression, SGDClassifier\n",
    "from sklearn.naive_bayes import MultinomialNB\n",
    "from sklearn.svm import SVC\n",
    "from textblob import TextBlob\n",
    "from textblob import Word\n",
    "from sklearn.metrics import accuracy_score, mean_squared_error, confusion_matrix\n",
    "from bs4 import BeautifulSoup"
   ]
  },
  {
   "cell_type": "code",
   "execution_count": 18,
   "id": "52585423",
   "metadata": {
    "execution": {
     "iopub.execute_input": "2024-03-25T02:27:05.142827Z",
     "iopub.status.busy": "2024-03-25T02:27:05.142159Z",
     "iopub.status.idle": "2024-03-25T02:27:05.203211Z",
     "shell.execute_reply": "2024-03-25T02:27:05.201860Z"
    },
    "papermill": {
     "duration": 0.077205,
     "end_time": "2024-03-25T02:27:05.205749",
     "exception": false,
     "start_time": "2024-03-25T02:27:05.128544",
     "status": "completed"
    },
    "tags": []
   },
   "outputs": [
    {
     "name": "stdout",
     "output_type": "stream",
     "text": [
      "[nltk_data] Downloading package stopwords to /usr/share/nltk_data...\n",
      "[nltk_data]   Package stopwords is already up-to-date!\n"
     ]
    },
    {
     "data": {
      "text/plain": [
       "True"
      ]
     },
     "execution_count": 18,
     "metadata": {},
     "output_type": "execute_result"
    }
   ],
   "source": [
    "nltk.download('stopwords')"
   ]
  },
  {
   "cell_type": "code",
   "execution_count": 19,
   "id": "c049aef8",
   "metadata": {
    "execution": {
     "iopub.execute_input": "2024-03-25T02:27:05.234369Z",
     "iopub.status.busy": "2024-03-25T02:27:05.233672Z",
     "iopub.status.idle": "2024-03-25T02:27:05.244763Z",
     "shell.execute_reply": "2024-03-25T02:27:05.243108Z"
    },
    "papermill": {
     "duration": 0.030194,
     "end_time": "2024-03-25T02:27:05.247443",
     "exception": false,
     "start_time": "2024-03-25T02:27:05.217249",
     "status": "completed"
    },
    "tags": []
   },
   "outputs": [],
   "source": [
    "from nltk.corpus.reader.tagged import ToktokTokenizer\n",
    "tokenizers = ToktokTokenizer()\n",
    "stopwords = nltk.corpus.stopwords.words('english')"
   ]
  },
  {
   "cell_type": "code",
   "execution_count": 20,
   "id": "8bcb6439",
   "metadata": {
    "execution": {
     "iopub.execute_input": "2024-03-25T02:27:05.279562Z",
     "iopub.status.busy": "2024-03-25T02:27:05.278672Z",
     "iopub.status.idle": "2024-03-25T02:27:05.284252Z",
     "shell.execute_reply": "2024-03-25T02:27:05.283449Z"
    },
    "papermill": {
     "duration": 0.023697,
     "end_time": "2024-03-25T02:27:05.286887",
     "exception": false,
     "start_time": "2024-03-25T02:27:05.263190",
     "status": "completed"
    },
    "tags": []
   },
   "outputs": [],
   "source": [
    "def noiseremovel_text(text):\n",
    "  soup = BeautifulSoup(text, \"html.parser\")\n",
    "  text = soup.get_text()\n",
    "  text = re.sub('\\[[^]]*\\]', '',text)\n",
    "  return text"
   ]
  },
  {
   "cell_type": "code",
   "execution_count": 21,
   "id": "b33db0ee",
   "metadata": {
    "execution": {
     "iopub.execute_input": "2024-03-25T02:27:05.315806Z",
     "iopub.status.busy": "2024-03-25T02:27:05.314968Z",
     "iopub.status.idle": "2024-03-25T02:27:05.607939Z",
     "shell.execute_reply": "2024-03-25T02:27:05.606849Z"
    },
    "papermill": {
     "duration": 0.308952,
     "end_time": "2024-03-25T02:27:05.610456",
     "exception": false,
     "start_time": "2024-03-25T02:27:05.301504",
     "status": "completed"
    },
    "tags": []
   },
   "outputs": [
    {
     "name": "stderr",
     "output_type": "stream",
     "text": [
      "/tmp/ipykernel_18/1987957958.py:2: MarkupResemblesLocatorWarning: The input looks more like a filename than markup. You may want to open this file and pass the filehandle into Beautiful Soup.\n",
      "  soup = BeautifulSoup(text, \"html.parser\")\n"
     ]
    }
   ],
   "source": [
    "df['review'] = df['review'].apply(noiseremovel_text)"
   ]
  },
  {
   "cell_type": "code",
   "execution_count": 22,
   "id": "70c11431",
   "metadata": {
    "execution": {
     "iopub.execute_input": "2024-03-25T02:27:05.636147Z",
     "iopub.status.busy": "2024-03-25T02:27:05.635737Z",
     "iopub.status.idle": "2024-03-25T02:27:05.647238Z",
     "shell.execute_reply": "2024-03-25T02:27:05.646008Z"
    },
    "papermill": {
     "duration": 0.027297,
     "end_time": "2024-03-25T02:27:05.649633",
     "exception": false,
     "start_time": "2024-03-25T02:27:05.622336",
     "status": "completed"
    },
    "tags": []
   },
   "outputs": [
    {
     "data": {
      "text/html": [
       "<div>\n",
       "<style scoped>\n",
       "    .dataframe tbody tr th:only-of-type {\n",
       "        vertical-align: middle;\n",
       "    }\n",
       "\n",
       "    .dataframe tbody tr th {\n",
       "        vertical-align: top;\n",
       "    }\n",
       "\n",
       "    .dataframe thead th {\n",
       "        text-align: right;\n",
       "    }\n",
       "</style>\n",
       "<table border=\"1\" class=\"dataframe\">\n",
       "  <thead>\n",
       "    <tr style=\"text-align: right;\">\n",
       "      <th></th>\n",
       "      <th>review</th>\n",
       "      <th>sentiment</th>\n",
       "    </tr>\n",
       "  </thead>\n",
       "  <tbody>\n",
       "    <tr>\n",
       "      <th>0</th>\n",
       "      <td>Kickers on my watchlist XIDE TIT SOQ PNK CPW B...</td>\n",
       "      <td>Positive</td>\n",
       "    </tr>\n",
       "    <tr>\n",
       "      <th>1</th>\n",
       "      <td>user: AAP MOVIE. 55% return for the FEA/GEED i...</td>\n",
       "      <td>Positive</td>\n",
       "    </tr>\n",
       "    <tr>\n",
       "      <th>2</th>\n",
       "      <td>user I'd be afraid to short AMZN - they are lo...</td>\n",
       "      <td>Positive</td>\n",
       "    </tr>\n",
       "    <tr>\n",
       "      <th>3</th>\n",
       "      <td>MNTA Over 12.00</td>\n",
       "      <td>Positive</td>\n",
       "    </tr>\n",
       "    <tr>\n",
       "      <th>4</th>\n",
       "      <td>OI  Over 21.37</td>\n",
       "      <td>Positive</td>\n",
       "    </tr>\n",
       "  </tbody>\n",
       "</table>\n",
       "</div>"
      ],
      "text/plain": [
       "                                              review sentiment\n",
       "0  Kickers on my watchlist XIDE TIT SOQ PNK CPW B...  Positive\n",
       "1  user: AAP MOVIE. 55% return for the FEA/GEED i...  Positive\n",
       "2  user I'd be afraid to short AMZN - they are lo...  Positive\n",
       "3                                  MNTA Over 12.00    Positive\n",
       "4                                   OI  Over 21.37    Positive"
      ]
     },
     "execution_count": 22,
     "metadata": {},
     "output_type": "execute_result"
    }
   ],
   "source": [
    "df.head()"
   ]
  },
  {
   "cell_type": "markdown",
   "id": "40dbc625",
   "metadata": {
    "papermill": {
     "duration": 0.011336,
     "end_time": "2024-03-25T02:27:05.672664",
     "exception": false,
     "start_time": "2024-03-25T02:27:05.661328",
     "status": "completed"
    },
    "tags": []
   },
   "source": [
    "# **Stemming**"
   ]
  },
  {
   "cell_type": "code",
   "execution_count": 23,
   "id": "a024c038",
   "metadata": {
    "execution": {
     "iopub.execute_input": "2024-03-25T02:27:05.698964Z",
     "iopub.status.busy": "2024-03-25T02:27:05.698182Z",
     "iopub.status.idle": "2024-03-25T02:27:05.703335Z",
     "shell.execute_reply": "2024-03-25T02:27:05.702353Z"
    },
    "papermill": {
     "duration": 0.021173,
     "end_time": "2024-03-25T02:27:05.705495",
     "exception": false,
     "start_time": "2024-03-25T02:27:05.684322",
     "status": "completed"
    },
    "tags": []
   },
   "outputs": [],
   "source": [
    "def stemmer(text):\n",
    "  ps = nltk.porter.PorterStemmer()\n",
    "  text = '.'.join([ps.stem(word) for word in text.split()])\n",
    "  return text"
   ]
  },
  {
   "cell_type": "code",
   "execution_count": 24,
   "id": "eb972651",
   "metadata": {
    "execution": {
     "iopub.execute_input": "2024-03-25T02:27:05.793684Z",
     "iopub.status.busy": "2024-03-25T02:27:05.792909Z",
     "iopub.status.idle": "2024-03-25T02:27:07.566022Z",
     "shell.execute_reply": "2024-03-25T02:27:07.564991Z"
    },
    "papermill": {
     "duration": 1.849968,
     "end_time": "2024-03-25T02:27:07.568363",
     "exception": false,
     "start_time": "2024-03-25T02:27:05.718395",
     "status": "completed"
    },
    "tags": []
   },
   "outputs": [],
   "source": [
    "df['review'] = df['review'].apply(stemmer)"
   ]
  },
  {
   "cell_type": "code",
   "execution_count": 25,
   "id": "53f90b9e",
   "metadata": {
    "execution": {
     "iopub.execute_input": "2024-03-25T02:27:07.593566Z",
     "iopub.status.busy": "2024-03-25T02:27:07.593164Z",
     "iopub.status.idle": "2024-03-25T02:27:07.603222Z",
     "shell.execute_reply": "2024-03-25T02:27:07.602087Z"
    },
    "papermill": {
     "duration": 0.025279,
     "end_time": "2024-03-25T02:27:07.605262",
     "exception": false,
     "start_time": "2024-03-25T02:27:07.579983",
     "status": "completed"
    },
    "tags": []
   },
   "outputs": [
    {
     "data": {
      "text/html": [
       "<div>\n",
       "<style scoped>\n",
       "    .dataframe tbody tr th:only-of-type {\n",
       "        vertical-align: middle;\n",
       "    }\n",
       "\n",
       "    .dataframe tbody tr th {\n",
       "        vertical-align: top;\n",
       "    }\n",
       "\n",
       "    .dataframe thead th {\n",
       "        text-align: right;\n",
       "    }\n",
       "</style>\n",
       "<table border=\"1\" class=\"dataframe\">\n",
       "  <thead>\n",
       "    <tr style=\"text-align: right;\">\n",
       "      <th></th>\n",
       "      <th>review</th>\n",
       "      <th>sentiment</th>\n",
       "    </tr>\n",
       "  </thead>\n",
       "  <tbody>\n",
       "    <tr>\n",
       "      <th>0</th>\n",
       "      <td>kicker.on.my.watchlist.xide.tit.soq.pnk.cpw.bp...</td>\n",
       "      <td>Positive</td>\n",
       "    </tr>\n",
       "    <tr>\n",
       "      <th>1</th>\n",
       "      <td>user:.aap.movie..55%.return.for.the.fea/ge.ind...</td>\n",
       "      <td>Positive</td>\n",
       "    </tr>\n",
       "    <tr>\n",
       "      <th>2</th>\n",
       "      <td>user.i'd.be.afraid.to.short.amzn.-.they.are.lo...</td>\n",
       "      <td>Positive</td>\n",
       "    </tr>\n",
       "    <tr>\n",
       "      <th>3</th>\n",
       "      <td>mnta.over.12.00</td>\n",
       "      <td>Positive</td>\n",
       "    </tr>\n",
       "    <tr>\n",
       "      <th>4</th>\n",
       "      <td>OI.over.21.37</td>\n",
       "      <td>Positive</td>\n",
       "    </tr>\n",
       "  </tbody>\n",
       "</table>\n",
       "</div>"
      ],
      "text/plain": [
       "                                              review sentiment\n",
       "0  kicker.on.my.watchlist.xide.tit.soq.pnk.cpw.bp...  Positive\n",
       "1  user:.aap.movie..55%.return.for.the.fea/ge.ind...  Positive\n",
       "2  user.i'd.be.afraid.to.short.amzn.-.they.are.lo...  Positive\n",
       "3                                    mnta.over.12.00  Positive\n",
       "4                                      OI.over.21.37  Positive"
      ]
     },
     "execution_count": 25,
     "metadata": {},
     "output_type": "execute_result"
    }
   ],
   "source": [
    "df.head()"
   ]
  },
  {
   "cell_type": "code",
   "execution_count": 26,
   "id": "159a17e8",
   "metadata": {
    "execution": {
     "iopub.execute_input": "2024-03-25T02:27:07.631716Z",
     "iopub.status.busy": "2024-03-25T02:27:07.630852Z",
     "iopub.status.idle": "2024-03-25T02:27:07.797790Z",
     "shell.execute_reply": "2024-03-25T02:27:07.796394Z"
    },
    "papermill": {
     "duration": 0.182631,
     "end_time": "2024-03-25T02:27:07.800203",
     "exception": false,
     "start_time": "2024-03-25T02:27:07.617572",
     "status": "completed"
    },
    "tags": []
   },
   "outputs": [
    {
     "name": "stdout",
     "output_type": "stream",
     "text": [
      "[nltk_data] Downloading package punkt to /usr/share/nltk_data...\n",
      "[nltk_data]   Package punkt is already up-to-date!\n",
      "[nltk_data] Downloading package stopwords to /usr/share/nltk_data...\n",
      "[nltk_data]   Package stopwords is already up-to-date!\n"
     ]
    }
   ],
   "source": [
    "import pandas as pd\n",
    "import nltk\n",
    "import re\n",
    "from nltk.corpus import stopwords\n",
    "from nltk.tokenize import ToktokTokenizer\n",
    "\n",
    "# Assuming you have a DataFrame named 'df' with a column 'review'\n",
    "\n",
    "# Download the necessary data\n",
    "nltk.download('punkt')\n",
    "nltk.download('stopwords')\n",
    "\n",
    "# Function to remove stopwords from text\n",
    "def remove_stopwords(text, stop_words=None, is_lower_case=False):\n",
    "    # Create a ToktokTokenizer instance\n",
    "    tokenizers = ToktokTokenizer()\n",
    "\n",
    "    # Use a regular expression to split the text into words while preserving consecutive full-stop signs\n",
    "    words = re.findall(r'\\w+|\\.\\.+', text)\n",
    "\n",
    "    # Remove stopwords\n",
    "    if stop_words is None:\n",
    "        stop_words = set()\n",
    "    else:\n",
    "        stop_words = set(stop_words)\n",
    "\n",
    "    if is_lower_case:\n",
    "        # Remove stopwords without converting tokens to lowercase\n",
    "        filtokens = [i for i in words if i not in stop_words]\n",
    "    else:\n",
    "        # Remove stopwords after converting tokens to lowercase\n",
    "        filtokens = [i for i in words if i.lower() not in stop_words]\n",
    "\n",
    "    # Join the filtered words back into a sentence\n",
    "    filtered_text = ' '.join(filtokens)\n",
    "    return filtered_text\n",
    "\n",
    "# Now, apply the remove_stopwords function to the 'review' column of the DataFrame\n",
    "\n",
    "# Get the English stopwords\n",
    "stop_wr = set(stopwords.words('english'))\n",
    "\n",
    "# Apply the remove_stopwords function to the 'review' column of the DataFrame\n",
    "df['review'] = df['review'].apply(remove_stopwords, stop_words=stop_wr)\n"
   ]
  },
  {
   "cell_type": "code",
   "execution_count": 27,
   "id": "fc44f02a",
   "metadata": {
    "execution": {
     "iopub.execute_input": "2024-03-25T02:27:07.826625Z",
     "iopub.status.busy": "2024-03-25T02:27:07.825823Z",
     "iopub.status.idle": "2024-03-25T02:27:07.836643Z",
     "shell.execute_reply": "2024-03-25T02:27:07.835594Z"
    },
    "papermill": {
     "duration": 0.026326,
     "end_time": "2024-03-25T02:27:07.838710",
     "exception": false,
     "start_time": "2024-03-25T02:27:07.812384",
     "status": "completed"
    },
    "tags": []
   },
   "outputs": [
    {
     "data": {
      "text/html": [
       "<div>\n",
       "<style scoped>\n",
       "    .dataframe tbody tr th:only-of-type {\n",
       "        vertical-align: middle;\n",
       "    }\n",
       "\n",
       "    .dataframe tbody tr th {\n",
       "        vertical-align: top;\n",
       "    }\n",
       "\n",
       "    .dataframe thead th {\n",
       "        text-align: right;\n",
       "    }\n",
       "</style>\n",
       "<table border=\"1\" class=\"dataframe\">\n",
       "  <thead>\n",
       "    <tr style=\"text-align: right;\">\n",
       "      <th></th>\n",
       "      <th>review</th>\n",
       "      <th>sentiment</th>\n",
       "    </tr>\n",
       "  </thead>\n",
       "  <tbody>\n",
       "    <tr>\n",
       "      <th>0</th>\n",
       "      <td>kicker watchlist xide tit soq pnk cpw bpz AJ t...</td>\n",
       "      <td>Positive</td>\n",
       "    </tr>\n",
       "    <tr>\n",
       "      <th>1</th>\n",
       "      <td>user aap movie .. 55 return fea ge indic 15 tr...</td>\n",
       "      <td>Positive</td>\n",
       "    </tr>\n",
       "    <tr>\n",
       "      <th>2</th>\n",
       "      <td>user afraid short amzn look like near monopoli...</td>\n",
       "      <td>Positive</td>\n",
       "    </tr>\n",
       "    <tr>\n",
       "      <th>3</th>\n",
       "      <td>mnta 12 00</td>\n",
       "      <td>Positive</td>\n",
       "    </tr>\n",
       "    <tr>\n",
       "      <th>4</th>\n",
       "      <td>OI 21 37</td>\n",
       "      <td>Positive</td>\n",
       "    </tr>\n",
       "  </tbody>\n",
       "</table>\n",
       "</div>"
      ],
      "text/plain": [
       "                                              review sentiment\n",
       "0  kicker watchlist xide tit soq pnk cpw bpz AJ t...  Positive\n",
       "1  user aap movie .. 55 return fea ge indic 15 tr...  Positive\n",
       "2  user afraid short amzn look like near monopoli...  Positive\n",
       "3                                         mnta 12 00  Positive\n",
       "4                                           OI 21 37  Positive"
      ]
     },
     "execution_count": 27,
     "metadata": {},
     "output_type": "execute_result"
    }
   ],
   "source": [
    "df.head()"
   ]
  },
  {
   "cell_type": "markdown",
   "id": "f90283ba",
   "metadata": {
    "papermill": {
     "duration": 0.011831,
     "end_time": "2024-03-25T02:27:07.863008",
     "exception": false,
     "start_time": "2024-03-25T02:27:07.851177",
     "status": "completed"
    },
    "tags": []
   },
   "source": [
    "# **Traning Test Split**"
   ]
  },
  {
   "cell_type": "code",
   "execution_count": 28,
   "id": "bd55e89b",
   "metadata": {
    "execution": {
     "iopub.execute_input": "2024-03-25T02:27:07.889747Z",
     "iopub.status.busy": "2024-03-25T02:27:07.888990Z",
     "iopub.status.idle": "2024-03-25T02:27:07.893753Z",
     "shell.execute_reply": "2024-03-25T02:27:07.892709Z"
    },
    "papermill": {
     "duration": 0.020685,
     "end_time": "2024-03-25T02:27:07.895874",
     "exception": false,
     "start_time": "2024-03-25T02:27:07.875189",
     "status": "completed"
    },
    "tags": []
   },
   "outputs": [],
   "source": [
    "X = df.review[:3000]"
   ]
  },
  {
   "cell_type": "code",
   "execution_count": 29,
   "id": "b24e4b25",
   "metadata": {
    "execution": {
     "iopub.execute_input": "2024-03-25T02:27:07.921940Z",
     "iopub.status.busy": "2024-03-25T02:27:07.921541Z",
     "iopub.status.idle": "2024-03-25T02:27:07.926514Z",
     "shell.execute_reply": "2024-03-25T02:27:07.925463Z"
    },
    "papermill": {
     "duration": 0.020601,
     "end_time": "2024-03-25T02:27:07.928589",
     "exception": false,
     "start_time": "2024-03-25T02:27:07.907988",
     "status": "completed"
    },
    "tags": []
   },
   "outputs": [],
   "source": [
    "y = df.review[3000:]"
   ]
  },
  {
   "cell_type": "markdown",
   "id": "7374051f",
   "metadata": {
    "papermill": {
     "duration": 0.011799,
     "end_time": "2024-03-25T02:27:07.952480",
     "exception": false,
     "start_time": "2024-03-25T02:27:07.940681",
     "status": "completed"
    },
    "tags": []
   },
   "source": [
    "# **Bag of Words**"
   ]
  },
  {
   "cell_type": "code",
   "execution_count": 30,
   "id": "70093d47",
   "metadata": {
    "execution": {
     "iopub.execute_input": "2024-03-25T02:27:07.978539Z",
     "iopub.status.busy": "2024-03-25T02:27:07.978124Z",
     "iopub.status.idle": "2024-03-25T02:27:08.411574Z",
     "shell.execute_reply": "2024-03-25T02:27:08.410300Z"
    },
    "papermill": {
     "duration": 0.449376,
     "end_time": "2024-03-25T02:27:08.413930",
     "exception": false,
     "start_time": "2024-03-25T02:27:07.964554",
     "status": "completed"
    },
    "tags": []
   },
   "outputs": [
    {
     "name": "stdout",
     "output_type": "stream",
     "text": [
      "Bow_cv_train (3000, 43267)\n",
      "Bow_cv_test (2791, 44484)\n"
     ]
    }
   ],
   "source": [
    "cv = CountVectorizer(min_df=0,max_df=1,binary=False,ngram_range=(1,3))\n",
    "cv_train = cv.fit_transform(X)\n",
    "cv_test = cv.fit_transform(y)\n",
    "print('Bow_cv_train',cv_train.shape)\n",
    "print('Bow_cv_test',cv_test.shape)"
   ]
  },
  {
   "cell_type": "markdown",
   "id": "2a743b63",
   "metadata": {
    "papermill": {
     "duration": 0.012046,
     "end_time": "2024-03-25T02:27:08.438324",
     "exception": false,
     "start_time": "2024-03-25T02:27:08.426278",
     "status": "completed"
    },
    "tags": []
   },
   "source": [
    "# **TE_IDF**"
   ]
  },
  {
   "cell_type": "code",
   "execution_count": 31,
   "id": "9c3ce0be",
   "metadata": {
    "execution": {
     "iopub.execute_input": "2024-03-25T02:27:08.464531Z",
     "iopub.status.busy": "2024-03-25T02:27:08.464126Z",
     "iopub.status.idle": "2024-03-25T02:27:08.911590Z",
     "shell.execute_reply": "2024-03-25T02:27:08.910187Z"
    },
    "papermill": {
     "duration": 0.463612,
     "end_time": "2024-03-25T02:27:08.913937",
     "exception": false,
     "start_time": "2024-03-25T02:27:08.450325",
     "status": "completed"
    },
    "tags": []
   },
   "outputs": [
    {
     "name": "stdout",
     "output_type": "stream",
     "text": [
      "Bow_tf_train (3000, 43267)\n",
      "Bow_tf_test (2791, 44484)\n"
     ]
    }
   ],
   "source": [
    "tf = TfidfVectorizer(min_df=0,max_df=1,binary=False,ngram_range=(1,3))\n",
    "tf_train = tf.fit_transform(X)\n",
    "tf_test = tf.fit_transform(y)\n",
    "print('Bow_tf_train',tf_train.shape)\n",
    "print('Bow_tf_test',tf_test.shape)"
   ]
  },
  {
   "cell_type": "markdown",
   "id": "e06eb65f",
   "metadata": {
    "papermill": {
     "duration": 0.012109,
     "end_time": "2024-03-25T02:27:08.938547",
     "exception": false,
     "start_time": "2024-03-25T02:27:08.926438",
     "status": "completed"
    },
    "tags": []
   },
   "source": [
    "# **Label_Encoding**"
   ]
  },
  {
   "cell_type": "code",
   "execution_count": 32,
   "id": "a3e42f8a",
   "metadata": {
    "execution": {
     "iopub.execute_input": "2024-03-25T02:27:08.965422Z",
     "iopub.status.busy": "2024-03-25T02:27:08.964948Z",
     "iopub.status.idle": "2024-03-25T02:27:08.989119Z",
     "shell.execute_reply": "2024-03-25T02:27:08.987603Z"
    },
    "papermill": {
     "duration": 0.040413,
     "end_time": "2024-03-25T02:27:08.991375",
     "exception": false,
     "start_time": "2024-03-25T02:27:08.950962",
     "status": "completed"
    },
    "tags": []
   },
   "outputs": [
    {
     "name": "stdout",
     "output_type": "stream",
     "text": [
      "(5791, 1)\n"
     ]
    }
   ],
   "source": [
    "# Create a LabelBinarizer instance\n",
    "label_binarizer = LabelBinarizer()\n",
    "\n",
    "# Fit and transform the 'sentiment' column\n",
    "sentiment_encoded = label_binarizer.fit_transform(df['sentiment'])\n",
    "print(sentiment_encoded.shape)"
   ]
  },
  {
   "cell_type": "code",
   "execution_count": 33,
   "id": "0ec40925",
   "metadata": {
    "execution": {
     "iopub.execute_input": "2024-03-25T02:27:09.019192Z",
     "iopub.status.busy": "2024-03-25T02:27:09.017593Z",
     "iopub.status.idle": "2024-03-25T02:27:09.025629Z",
     "shell.execute_reply": "2024-03-25T02:27:09.024472Z"
    },
    "papermill": {
     "duration": 0.023768,
     "end_time": "2024-03-25T02:27:09.027621",
     "exception": false,
     "start_time": "2024-03-25T02:27:09.003853",
     "status": "completed"
    },
    "tags": []
   },
   "outputs": [
    {
     "data": {
      "text/plain": [
       "array([[1],\n",
       "       [1],\n",
       "       [1],\n",
       "       ...,\n",
       "       [1],\n",
       "       [1],\n",
       "       [1]])"
      ]
     },
     "execution_count": 33,
     "metadata": {},
     "output_type": "execute_result"
    }
   ],
   "source": [
    "sentiment_encoded"
   ]
  },
  {
   "cell_type": "code",
   "execution_count": 34,
   "id": "99c16f4f",
   "metadata": {
    "execution": {
     "iopub.execute_input": "2024-03-25T02:27:09.056982Z",
     "iopub.status.busy": "2024-03-25T02:27:09.055920Z",
     "iopub.status.idle": "2024-03-25T02:27:09.343906Z",
     "shell.execute_reply": "2024-03-25T02:27:09.342482Z"
    },
    "papermill": {
     "duration": 0.30455,
     "end_time": "2024-03-25T02:27:09.346687",
     "exception": false,
     "start_time": "2024-03-25T02:27:09.042137",
     "status": "completed"
    },
    "tags": []
   },
   "outputs": [
    {
     "name": "stdout",
     "output_type": "stream",
     "text": [
      "Accuracy: 0.8006902502157032\n",
      "Classification Report:\n",
      "              precision    recall  f1-score   support\n",
      "\n",
      "    Negative       0.75      0.69      0.72       427\n",
      "    Positive       0.83      0.87      0.85       732\n",
      "\n",
      "    accuracy                           0.80      1159\n",
      "   macro avg       0.79      0.78      0.78      1159\n",
      "weighted avg       0.80      0.80      0.80      1159\n",
      "\n"
     ]
    }
   ],
   "source": [
    "from sklearn.model_selection import train_test_split\n",
    "from sklearn.metrics import accuracy_score, classification_report\n",
    "# Create a CountVectorizer instance\n",
    "vectorizer = CountVectorizer()\n",
    "\n",
    "# Convert the text data to bag-of-words features\n",
    "X_bow = vectorizer.fit_transform(df['review'])\n",
    "\n",
    "# Split the data into features (X) and target (y)\n",
    "X_train, X_test, y_train, y_test = train_test_split(X_bow, df['sentiment'], test_size=0.2, random_state=42)\n",
    "\n",
    "# Initialize the Logistic Regression model\n",
    "logistic = LogisticRegression(penalty='l2', max_iter=500, C=1, random_state=42)\n",
    "\n",
    "# Fitting the model on the training data\n",
    "lr_bow = logistic.fit(X_train, y_train)\n",
    "\n",
    "# Make predictions on the test data\n",
    "y_pred = lr_bow.predict(X_test)\n",
    "\n",
    "# Calculate and print accuracy\n",
    "accuracy = accuracy_score(y_test, y_pred)\n",
    "print(\"Accuracy:\", accuracy)\n",
    "\n",
    "# Print the classification report\n",
    "print(\"Classification Report:\")\n",
    "print(classification_report(y_test, y_pred))\n"
   ]
  },
  {
   "cell_type": "code",
   "execution_count": 35,
   "id": "7f9f4115",
   "metadata": {
    "execution": {
     "iopub.execute_input": "2024-03-25T02:27:09.373782Z",
     "iopub.status.busy": "2024-03-25T02:27:09.373336Z",
     "iopub.status.idle": "2024-03-25T02:27:09.380680Z",
     "shell.execute_reply": "2024-03-25T02:27:09.379614Z"
    },
    "papermill": {
     "duration": 0.023929,
     "end_time": "2024-03-25T02:27:09.383293",
     "exception": false,
     "start_time": "2024-03-25T02:27:09.359364",
     "status": "completed"
    },
    "tags": []
   },
   "outputs": [
    {
     "name": "stdout",
     "output_type": "stream",
     "text": [
      "Predicted Sentiment: Negative\n"
     ]
    }
   ],
   "source": [
    "# Make predictions on new text data\n",
    "new_text = [\"Volatility's grip tightens, stocks plunge in a sea of red.\"]\n",
    "new_text_bow = vectorizer.transform(new_text)\n",
    "y_pred = lr_bow.predict(new_text_bow)\n",
    "\n",
    "print(\"Predicted Sentiment:\", y_pred[0])"
   ]
  },
  {
   "cell_type": "code",
   "execution_count": null,
   "id": "c83ad477",
   "metadata": {
    "papermill": {
     "duration": 0.012986,
     "end_time": "2024-03-25T02:27:09.409909",
     "exception": false,
     "start_time": "2024-03-25T02:27:09.396923",
     "status": "completed"
    },
    "tags": []
   },
   "outputs": [],
   "source": []
  }
 ],
 "metadata": {
  "kaggle": {
   "accelerator": "none",
   "dataSources": [
    {
     "datasetId": 695933,
     "sourceId": 1217821,
     "sourceType": "datasetVersion"
    }
   ],
   "dockerImageVersionId": 30673,
   "isGpuEnabled": false,
   "isInternetEnabled": true,
   "language": "python",
   "sourceType": "notebook"
  },
  "kernelspec": {
   "display_name": "Python 3",
   "language": "python",
   "name": "python3"
  },
  "language_info": {
   "codemirror_mode": {
    "name": "ipython",
    "version": 3
   },
   "file_extension": ".py",
   "mimetype": "text/x-python",
   "name": "python",
   "nbconvert_exporter": "python",
   "pygments_lexer": "ipython3",
   "version": "3.10.13"
  },
  "papermill": {
   "default_parameters": {},
   "duration": 36.045521,
   "end_time": "2024-03-25T02:27:11.047880",
   "environment_variables": {},
   "exception": null,
   "input_path": "__notebook__.ipynb",
   "output_path": "__notebook__.ipynb",
   "parameters": {},
   "start_time": "2024-03-25T02:26:35.002359",
   "version": "2.5.0"
  }
 },
 "nbformat": 4,
 "nbformat_minor": 5
}
